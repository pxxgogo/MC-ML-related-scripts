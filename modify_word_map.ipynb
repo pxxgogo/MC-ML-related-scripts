{
 "cells": [
  {
   "cell_type": "code",
   "execution_count": 4,
   "metadata": {},
   "outputs": [],
   "source": [
    "import json\n",
    "word_map_old = json.loads(open(\"words_map.json\").read())\n",
    "punctuations_lines = open(\"punctuation.txt\").readlines()\n",
    "punctuations = []\n",
    "for punctuation_line in punctuations_lines:\n",
    "    punctuation = punctuation_line[:-1]\n",
    "    if not punctuation == \"\":\n",
    "        punctuations.append(punctuation)"
   ]
  },
  {
   "cell_type": "code",
   "execution_count": 6,
   "metadata": {},
   "outputs": [
    {
     "ename": "NameError",
     "evalue": "name 'word_map_old' is not defined",
     "traceback": [
      "\u001b[0;31m---------------------------------------------------------------------------\u001b[0m",
      "\u001b[0;31mNameError\u001b[0m                                 Traceback (most recent call last)",
      "\u001b[0;32m<ipython-input-6-ee3263880499>\u001b[0m in \u001b[0;36m<module>\u001b[0;34m()\u001b[0m\n\u001b[1;32m      1\u001b[0m \u001b[0mword_map_new\u001b[0m \u001b[0;34m=\u001b[0m \u001b[0;34m[\u001b[0m\u001b[0;34m]\u001b[0m\u001b[0;34m\u001b[0m\u001b[0m\n\u001b[0;32m----> 2\u001b[0;31m \u001b[0;32mfor\u001b[0m \u001b[0mword\u001b[0m\u001b[0;34m,\u001b[0m \u001b[0mvalue\u001b[0m \u001b[0;32min\u001b[0m \u001b[0mword_map_old\u001b[0m\u001b[0;34m.\u001b[0m\u001b[0mitems\u001b[0m\u001b[0;34m(\u001b[0m\u001b[0;34m)\u001b[0m\u001b[0;34m:\u001b[0m\u001b[0;34m\u001b[0m\u001b[0m\n\u001b[0m\u001b[1;32m      3\u001b[0m     \u001b[0;32mif\u001b[0m \u001b[0mword\u001b[0m \u001b[0;32min\u001b[0m \u001b[0mpunctuations\u001b[0m\u001b[0;34m:\u001b[0m\u001b[0;34m\u001b[0m\u001b[0m\n\u001b[1;32m      4\u001b[0m         \u001b[0mprint\u001b[0m\u001b[0;34m(\u001b[0m\u001b[0mword\u001b[0m\u001b[0;34m)\u001b[0m\u001b[0;34m\u001b[0m\u001b[0m\n",
      "\u001b[0;31mNameError\u001b[0m: name 'word_map_old' is not defined"
     ],
     "output_type": "error"
    }
   ],
   "source": [
    ""
   ]
  },
  {
   "cell_type": "code",
   "execution_count": 20,
   "metadata": {},
   "outputs": [
    {
     "name": "stdout",
     "output_type": "stream",
     "text": [
      "-----\n{{#}} 8044\n{{E}} 8045\n{{R}} 8046\n{{MAX}} 8047\n"
     ]
    }
   ],
   "source": [
    "word_map_new = {}\n",
    "word_No_new = 1\n",
    "for word, value in word_map_old.items():\n",
    "    if word in punctuations:\n",
    "        pass\n",
    "    elif (not word.find(\"{{\") == -1) and (not word.find(\"}}\") == -1):\n",
    "        # print(word)\n",
    "        pass\n",
    "    else:\n",
    "        word_map_new[word] = word_No_new\n",
    "        word_No_new += 1\n",
    "print(\"-----\")\n",
    "for punctuation in punctuations:\n",
    "    word_map_new[punctuation] = word_No_new\n",
    "    word_No_new += 1\n",
    "    # print(punctuation, word_map_new[punctuation])\n",
    "    \n",
    "word_map_new[\"{{#}}\"] = word_No_new\n",
    "word_No_new += 1\n",
    "word_map_new[\"{{E}}\"] = word_No_new\n",
    "word_No_new += 1\n",
    "word_map_new[\"{{R}}\"] = word_No_new\n",
    "word_No_new += 1\n",
    "word_map_new[\"{{MAX}}\"] = word_No_new\n",
    "word_No_new += 1\n",
    "print(\"{{#}}\", word_map_new[\"{{#}}\"])\n",
    "print(\"{{E}}\", word_map_new[\"{{E}}\"])\n",
    "print(\"{{R}}\", word_map_new[\"{{R}}\"])\n",
    "print(\"{{MAX}}\", word_map_new[\"{{MAX}}\"])"
   ]
  },
  {
   "cell_type": "code",
   "execution_count": 21,
   "metadata": {},
   "outputs": [
    {
     "name": "stdout",
     "output_type": "stream",
     "text": [
      "8044\n"
     ]
    }
   ],
   "source": [
    "print(len(word_map_new))\n",
    "with open(\"word_map_new.json\", \"w\") as file_handle:\n",
    "    file_handle.write(json.dumps(word_map_new))"
   ]
  },
  {
   "cell_type": "code",
   "execution_count": 16,
   "metadata": {},
   "outputs": [
    {
     "name": "stdout",
     "output_type": "stream",
     "text": [
      "8043\n"
     ]
    }
   ],
   "source": [
    ""
   ]
  },
  {
   "cell_type": "code",
   "execution_count": 17,
   "metadata": {},
   "outputs": [],
   "source": [
    ""
   ]
  },
  {
   "cell_type": "code",
   "execution_count": 9,
   "metadata": {},
   "outputs": [
    {
     "name": "stdout",
     "output_type": "stream",
     "text": [
      "8044\n"
     ]
    }
   ],
   "source": [
    ""
   ]
  },
  {
   "cell_type": "code",
   "execution_count": 10,
   "metadata": {},
   "outputs": [],
   "source": [
    ""
   ]
  },
  {
   "cell_type": "code",
   "execution_count": null,
   "metadata": {},
   "outputs": [],
   "source": [
    ""
   ]
  }
 ],
 "metadata": {},
 "nbformat": 4,
 "nbformat_minor": 0
}