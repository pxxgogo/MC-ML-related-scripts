{
 "cells": [
  {
   "cell_type": "code",
   "execution_count": 29,
   "metadata": {},
   "outputs": [],
   "source": [
    "import json\n",
    "word_map_old = json.loads(open(\"words_map.json\").read())\n",
    "punctuations_lines = open(\"punctuation.txt\").readlines()\n",
    "punctuations = []\n",
    "for punctuation_line in punctuations_lines:\n",
    "    punctuation = punctuation_line[:-1]\n",
    "    if not punctuation == \"\":\n",
    "        punctuations.append(punctuation)"
   ]
  },
  {
   "cell_type": "code",
   "execution_count": 6,
   "metadata": {},
   "outputs": [
    {
     "ename": "NameError",
     "evalue": "name 'word_map_old' is not defined",
     "traceback": [
      "\u001b[0;31m---------------------------------------------------------------------------\u001b[0m",
      "\u001b[0;31mNameError\u001b[0m                                 Traceback (most recent call last)",
      "\u001b[0;32m<ipython-input-6-ee3263880499>\u001b[0m in \u001b[0;36m<module>\u001b[0;34m()\u001b[0m\n\u001b[1;32m      1\u001b[0m \u001b[0mword_map_new\u001b[0m \u001b[0;34m=\u001b[0m \u001b[0;34m[\u001b[0m\u001b[0;34m]\u001b[0m\u001b[0;34m\u001b[0m\u001b[0m\n\u001b[0;32m----> 2\u001b[0;31m \u001b[0;32mfor\u001b[0m \u001b[0mword\u001b[0m\u001b[0;34m,\u001b[0m \u001b[0mvalue\u001b[0m \u001b[0;32min\u001b[0m \u001b[0mword_map_old\u001b[0m\u001b[0;34m.\u001b[0m\u001b[0mitems\u001b[0m\u001b[0;34m(\u001b[0m\u001b[0;34m)\u001b[0m\u001b[0;34m:\u001b[0m\u001b[0;34m\u001b[0m\u001b[0m\n\u001b[0m\u001b[1;32m      3\u001b[0m     \u001b[0;32mif\u001b[0m \u001b[0mword\u001b[0m \u001b[0;32min\u001b[0m \u001b[0mpunctuations\u001b[0m\u001b[0;34m:\u001b[0m\u001b[0;34m\u001b[0m\u001b[0m\n\u001b[1;32m      4\u001b[0m         \u001b[0mprint\u001b[0m\u001b[0;34m(\u001b[0m\u001b[0mword\u001b[0m\u001b[0;34m)\u001b[0m\u001b[0;34m\u001b[0m\u001b[0m\n",
      "\u001b[0;31mNameError\u001b[0m: name 'word_map_old' is not defined"
     ],
     "output_type": "error"
    }
   ],
   "source": [
    ""
   ]
  },
  {
   "cell_type": "code",
   "execution_count": 30,
   "metadata": {},
   "outputs": [
    {
     "name": "stdout",
     "output_type": "stream",
     "text": [
      "{{#}}.\n{{#}}.{{#}}.{{#}}.\n{{#}}.{{#}}...\n”\n“\n{{#}}....\n{{#}}..{{#}}\n.\n?\n。\n{{#}}...\n{{#}}......\n、\n{{#}}\n)\n‘\n{{#}}.{{#}}.\n…\n{{#}}..\n《\n,\n(\n{{#}}.{{#}}.{{#}}.{{#}}.{{#}}\n{{#}}.{{#}}\n’\n;\n{{#}}.{{#}}.{{#}}\n》\n{{#}}.{{#}}.{{#}}.{{#}}\n{{#}}.....\n-----\n。 7945\n， 7946\n, 7947\n、 7948\n＇ 7949\n： 7950\n∶ 7951\n； 7952\n? 7953\n‘ 7954\n’ 7955\n“ 7956\n” 7957\n〝 7958\n〞 7959\nˆ 7960\nˇ 7961\n﹕ 7962\n︰ 7963\n﹔ 7964\n﹖ 7965\n﹑ 7966\n· 7967\n¨ 7968\n… 7969\n. 7970\n; 7971\n！ 7972\n´ 7973\n？ 7974\n！ 7975\n～ 7975\n— 7976\nˉ 7977\n｜ 7978\n‖ 7979\n＂ 7980\n〃 7981\n｀ 7982\n@ 7983\n﹫ 7984\n﹟ 7985\n# 7986\n﹩ 7987\n$ 7988\n﹠ 7989\n& 7990\n﹪ 7991\n% 7992\n* 7993\n﹡ 7994\n﹢ 7995\n﹦ 7996\n﹤ 7997\n‐ 7998\n￣ 7999\n¯ 8000\n― 8001\n﹨ 8002\nˆ 8003\n˜ 8003\n﹍ 8004\n﹎ 8005\n+ 8006\n= 8007\n< 8008\n＿ 8009\n_ 8010\n- 8011\n\\ 8012\nˇ 8013\n~ 8013\n﹉ 8014\n﹊ 8015\n（ 8016\n） 8017\n( 8018\n) 8019\n〈 8020\n〉 8021\n‹ 8022\n› 8023\n﹛ 8024\n﹜ 8025\n『 8026\n』 8027\n〖 8028\n〗 8029\n［ 8030\n］ 8031\n[ 8032\n] 8033\n《 8034\n》 8035\n〔 8036\n〕 8037\n{ 8038\n} 8039\n「 8040\n」 8041\n【 8042\n"
     ]
    }
   ],
   "source": [
    "word_map_new = {}\n",
    "for word, value in word_map_old.items():\n",
    "    if word in punctuations:\n",
    "        print(word)\n",
    "    elif not word.find(\"{{#}}\") == -1:\n",
    "        print(word)\n",
    "    else:\n",
    "        word_map_new[word] = value\n",
    "print(\"-----\")\n",
    "for punctuation in punctuations:\n",
    "    word_map_new[punctuation] = len(word_map_new)\n",
    "    print(punctuation, word_map_new[punctuation])"
   ]
  },
  {
   "cell_type": "code",
   "execution_count": 31,
   "metadata": {},
   "outputs": [],
   "source": [
    "word_map_new[\"{{#}}\"] = len(word_map_new)\n",
    "word_map_new[\"{{E}}\"] = len(word_map_new)"
   ]
  },
  {
   "cell_type": "code",
   "execution_count": 32,
   "metadata": {},
   "outputs": [
    {
     "name": "stdout",
     "output_type": "stream",
     "text": [
      "8044\n"
     ]
    }
   ],
   "source": [
    "print(len(word_map_new))\n",
    "with open(\"word_map_new.json\", \"w\") as file_handle:\n",
    "    file_handle.write(json.dumps(word_map_new))"
   ]
  },
  {
   "cell_type": "code",
   "execution_count": 33,
   "metadata": {},
   "outputs": [],
   "source": [
    "output = open(\"output.txt\", 'w')\n",
    "for word, value in word_map_new.items():\n",
    "    output.write(\"%s %d\\n\" % (word, value))"
   ]
  },
  {
   "cell_type": "code",
   "execution_count": 35,
   "metadata": {},
   "outputs": [
    {
     "name": "stdout",
     "output_type": "stream",
     "text": [
      "8044\n"
     ]
    }
   ],
   "source": [
    "print(len(word_map_new))"
   ]
  },
  {
   "cell_type": "code",
   "execution_count": 37,
   "metadata": {},
   "outputs": [],
   "source": [
    "word_map_new[\"{{vocab_size}}\"] = len(word_map_new)\n",
    "output = open(\"output.txt\", 'w')\n",
    "for word, value in word_map_new.items():\n",
    "    output.write(\"%s %d\\n\" % (word, value))"
   ]
  },
  {
   "cell_type": "code",
   "execution_count": null,
   "metadata": {},
   "outputs": [],
   "source": [
    ""
   ]
  }
 ],
 "metadata": {},
 "nbformat": 4,
 "nbformat_minor": 0
}